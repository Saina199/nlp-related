{
 "cells": [
  {
   "cell_type": "markdown",
   "metadata": {},
   "source": [
    "### This notebook cleans up the wikihow data from the unwanted characters that presented at the scraping.  The process consists of the following:\n",
    "1. remove empty rows, whethere it is empty summary or empty text\n",
    "2. remove the commos, colons, and ... after the full stops\n",
    "3. use SpaCy to tokenize data and reconstruct the sentences\n",
    "4. only consider the articles that both summary and article are at least 20 characters\n",
    "5. identify sentences, and consider only the sentences that are at least 3 characters\n",
    "6. tokenize every sentence and consider only the tokens that are neither space, nor punctuations\n",
    "7. add the normalized form of the token to the list (e.g. n't --> not)\n",
    "8. out of sentence-tokenizer loop, join the words together to create the sentence, and add the last character in the sentence to the end of the sentence  (e.g. '.', '?')\n",
    "9. remove the empty rows again\n",
    "\n",
    "Now its time to decide which tuples to keep\n",
    "1. get the length of every summary and article and add to the dataframe\n",
    "2. get the statistics description of the the length\n",
    "3. include the tuples that have length within 90% of the distribution (>.05 & <.95)\n",
    "4. identify the tuples that the length of the text is at least as twice as the summary length"
   ]
  },
  {
   "cell_type": "code",
   "execution_count": 1,
   "metadata": {},
   "outputs": [],
   "source": [
    "import numpy as np\n",
    "import pandas as pd"
   ]
  },
  {
   "cell_type": "code",
   "execution_count": 2,
   "metadata": {},
   "outputs": [
    {
     "data": {
      "text/plain": [
       "(215365, 3)"
      ]
     },
     "execution_count": 2,
     "metadata": {},
     "output_type": "execute_result"
    }
   ],
   "source": [
    "how = pd.read_csv('wikihowAll.csv')\n",
    "how.shape"
   ]
  },
  {
   "cell_type": "code",
   "execution_count": 3,
   "metadata": {},
   "outputs": [
    {
     "data": {
      "text/plain": [
       "(214294, 2)"
      ]
     },
     "execution_count": 3,
     "metadata": {},
     "output_type": "execute_result"
    }
   ],
   "source": [
    "how = how[['headline','text']]\n",
    "data = how[~(how['headline'].isnull() | how['text'].isnull())]\n",
    "data.shape"
   ]
  },
  {
   "cell_type": "code",
   "execution_count": 4,
   "metadata": {},
   "outputs": [
    {
     "name": "stderr",
     "output_type": "stream",
     "text": [
      "/anaconda3/envs/py36/lib/python3.6/site-packages/ipykernel_launcher.py:1: SettingWithCopyWarning: \n",
      "A value is trying to be set on a copy of a slice from a DataFrame.\n",
      "Try using .loc[row_indexer,col_indexer] = value instead\n",
      "\n",
      "See the caveats in the documentation: http://pandas.pydata.org/pandas-docs/stable/indexing.html#indexing-view-versus-copy\n",
      "  \"\"\"Entry point for launching an IPython kernel.\n"
     ]
    }
   ],
   "source": [
    "data['headline'] = data['headline'].apply(lambda x: x.lower().replace('.,','.'))"
   ]
  },
  {
   "cell_type": "code",
   "execution_count": 5,
   "metadata": {},
   "outputs": [
    {
     "name": "stderr",
     "output_type": "stream",
     "text": [
      "/anaconda3/envs/py36/lib/python3.6/site-packages/ipykernel_launcher.py:1: SettingWithCopyWarning: \n",
      "A value is trying to be set on a copy of a slice from a DataFrame.\n",
      "Try using .loc[row_indexer,col_indexer] = value instead\n",
      "\n",
      "See the caveats in the documentation: http://pandas.pydata.org/pandas-docs/stable/indexing.html#indexing-view-versus-copy\n",
      "  \"\"\"Entry point for launching an IPython kernel.\n",
      "/anaconda3/envs/py36/lib/python3.6/site-packages/ipykernel_launcher.py:2: SettingWithCopyWarning: \n",
      "A value is trying to be set on a copy of a slice from a DataFrame.\n",
      "Try using .loc[row_indexer,col_indexer] = value instead\n",
      "\n",
      "See the caveats in the documentation: http://pandas.pydata.org/pandas-docs/stable/indexing.html#indexing-view-versus-copy\n",
      "  \n",
      "/anaconda3/envs/py36/lib/python3.6/site-packages/ipykernel_launcher.py:3: SettingWithCopyWarning: \n",
      "A value is trying to be set on a copy of a slice from a DataFrame.\n",
      "Try using .loc[row_indexer,col_indexer] = value instead\n",
      "\n",
      "See the caveats in the documentation: http://pandas.pydata.org/pandas-docs/stable/indexing.html#indexing-view-versus-copy\n",
      "  This is separate from the ipykernel package so we can avoid doing imports until\n"
     ]
    }
   ],
   "source": [
    "data['text'] = data['text'].apply(lambda x: x.lower().replace('.,','.'))\n",
    "data['text'] = data['text'].apply(lambda x: x.lower().replace('.;','.'))\n",
    "data['text'] = data['text'].apply(lambda x: x.lower().replace('.:','.'))"
   ]
  },
  {
   "cell_type": "code",
   "execution_count": 6,
   "metadata": {},
   "outputs": [],
   "source": [
    "from spacy.lang.en import English\n",
    "nlp = English()\n",
    "nlp.add_pipe(nlp.create_pipe('sentencizer'))"
   ]
  },
  {
   "cell_type": "code",
   "execution_count": 13,
   "metadata": {},
   "outputs": [],
   "source": [
    "def regenerateText(txt):\n",
    "    clean_text = ''\n",
    "    if len(txt)>20:\n",
    "        for sentence in txt.sents:\n",
    "            if len(sentence)>3:\n",
    "                build_sent = []\n",
    "                for token in sentence:\n",
    "                    if not (token.is_punct | token.is_space):  \n",
    "                        build_sent.append(str(token.norm_))\n",
    "                clean_text += ' '.join(build_sent)+str(sentence[-1])+' '\n",
    "    return clean_text        "
   ]
  },
  {
   "cell_type": "code",
   "execution_count": 15,
   "metadata": {
    "scrolled": false
   },
   "outputs": [
    {
     "name": "stderr",
     "output_type": "stream",
     "text": [
      "/anaconda3/envs/py36/lib/python3.6/site-packages/ipykernel_launcher.py:1: SettingWithCopyWarning: \n",
      "A value is trying to be set on a copy of a slice from a DataFrame.\n",
      "Try using .loc[row_indexer,col_indexer] = value instead\n",
      "\n",
      "See the caveats in the documentation: http://pandas.pydata.org/pandas-docs/stable/indexing.html#indexing-view-versus-copy\n",
      "  \"\"\"Entry point for launching an IPython kernel.\n"
     ]
    }
   ],
   "source": [
    "data['text'] = data['text'].apply(lambda x: regenerateText(nlp(x)))"
   ]
  },
  {
   "cell_type": "code",
   "execution_count": 16,
   "metadata": {},
   "outputs": [
    {
     "name": "stderr",
     "output_type": "stream",
     "text": [
      "/anaconda3/envs/py36/lib/python3.6/site-packages/ipykernel_launcher.py:1: SettingWithCopyWarning: \n",
      "A value is trying to be set on a copy of a slice from a DataFrame.\n",
      "Try using .loc[row_indexer,col_indexer] = value instead\n",
      "\n",
      "See the caveats in the documentation: http://pandas.pydata.org/pandas-docs/stable/indexing.html#indexing-view-versus-copy\n",
      "  \"\"\"Entry point for launching an IPython kernel.\n"
     ]
    }
   ],
   "source": [
    "data['headline'] = data['headline'].apply(lambda x: regenerateText(nlp(x)))"
   ]
  },
  {
   "cell_type": "code",
   "execution_count": 42,
   "metadata": {},
   "outputs": [
    {
     "data": {
      "text/plain": [
       "(194184, 2)"
      ]
     },
     "execution_count": 42,
     "metadata": {},
     "output_type": "execute_result"
    }
   ],
   "source": [
    "dataCL = data[~(data['headline']=='')]\n",
    "dataCL = dataCL[~(dataCL['text']=='')]\n",
    "dataCL.shape"
   ]
  },
  {
   "cell_type": "code",
   "execution_count": 43,
   "metadata": {},
   "outputs": [],
   "source": [
    "dataCL['summaryLen'] = dataCL['headline'].apply(lambda x: len(x))\n",
    "dataCL['textLen'] = dataCL['text'].apply(lambda x: len(x))"
   ]
  },
  {
   "cell_type": "code",
   "execution_count": 44,
   "metadata": {},
   "outputs": [
    {
     "data": {
      "text/plain": [
       "count    194184.000000\n",
       "mean        362.351579\n",
       "std         320.100462\n",
       "min           9.000000\n",
       "5%          103.000000\n",
       "10%         119.000000\n",
       "25%         164.000000\n",
       "50%         267.000000\n",
       "75%         459.000000\n",
       "90%         706.000000\n",
       "95%         916.000000\n",
       "max       23173.000000\n",
       "Name: summaryLen, dtype: float64"
      ]
     },
     "execution_count": 44,
     "metadata": {},
     "output_type": "execute_result"
    }
   ],
   "source": [
    "dataCL['summaryLen'].describe(percentiles=[.05,.1,.25,.5,.75,.9,.95])"
   ]
  },
  {
   "cell_type": "code",
   "execution_count": 45,
   "metadata": {},
   "outputs": [
    {
     "data": {
      "text/plain": [
       "count    194184.000000\n",
       "mean       2670.422342\n",
       "std        2837.005673\n",
       "min           2.000000\n",
       "5%          196.000000\n",
       "10%         352.000000\n",
       "25%         898.000000\n",
       "50%        1820.000000\n",
       "75%        3253.000000\n",
       "90%        6196.000000\n",
       "95%        8666.000000\n",
       "max       74177.000000\n",
       "Name: textLen, dtype: float64"
      ]
     },
     "execution_count": 45,
     "metadata": {},
     "output_type": "execute_result"
    }
   ],
   "source": [
    "dataCL['textLen'].describe(percentiles=[.05,.1,.25,.5,.75,.9,.95])"
   ]
  },
  {
   "cell_type": "code",
   "execution_count": 46,
   "metadata": {},
   "outputs": [
    {
     "data": {
      "text/plain": [
       "(157587, 4)"
      ]
     },
     "execution_count": 46,
     "metadata": {},
     "output_type": "execute_result"
    }
   ],
   "source": [
    "tr = dataCL[(dataCL['textLen']>196)&(dataCL['summaryLen']>103)&\n",
    "             (dataCL['textLen']<8666)&(dataCL['summaryLen']<916)]\n",
    "tr.shape"
   ]
  },
  {
   "cell_type": "code",
   "execution_count": 47,
   "metadata": {},
   "outputs": [
    {
     "data": {
      "text/plain": [
       "(135446, 4)"
      ]
     },
     "execution_count": 47,
     "metadata": {},
     "output_type": "execute_result"
    }
   ],
   "source": [
    "tr2 = tr[(tr['textLen']>2*tr['summaryLen'])]\n",
    "tr2.shape"
   ]
  },
  {
   "cell_type": "code",
   "execution_count": 48,
   "metadata": {},
   "outputs": [],
   "source": [
    "tr2.to_csv('2018_03_06_wikihow_preservingSentences_truncated.csv',index=None)"
   ]
  }
 ],
 "metadata": {
  "kernelspec": {
   "display_name": "Python 3",
   "language": "python",
   "name": "python3"
  },
  "language_info": {
   "codemirror_mode": {
    "name": "ipython",
    "version": 3
   },
   "file_extension": ".py",
   "mimetype": "text/x-python",
   "name": "python",
   "nbconvert_exporter": "python",
   "pygments_lexer": "ipython3",
   "version": "3.6.8"
  }
 },
 "nbformat": 4,
 "nbformat_minor": 2
}
