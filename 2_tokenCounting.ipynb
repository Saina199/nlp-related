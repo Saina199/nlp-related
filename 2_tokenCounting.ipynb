{
 "cells": [
  {
   "cell_type": "markdown",
   "metadata": {},
   "source": [
    "In this notebook, I am trying to get some initial values to set at LDA hyperparameters.  For example, when making the bag of word for the documents, we could use less or more frequent words...\n"
   ]
  },
  {
   "cell_type": "code",
   "execution_count": 1,
   "metadata": {},
   "outputs": [],
   "source": [
    "import numpy as np\n",
    "import pandas as pd"
   ]
  },
  {
   "cell_type": "code",
   "execution_count": 2,
   "metadata": {},
   "outputs": [],
   "source": [
    "import spacy\n",
    "nlp = spacy.load('en_core_web_sm')\n",
    "\n",
    "from collections import Counter"
   ]
  },
  {
   "cell_type": "code",
   "execution_count": 3,
   "metadata": {},
   "outputs": [
    {
     "data": {
      "text/html": [
       "<div>\n",
       "<style scoped>\n",
       "    .dataframe tbody tr th:only-of-type {\n",
       "        vertical-align: middle;\n",
       "    }\n",
       "\n",
       "    .dataframe tbody tr th {\n",
       "        vertical-align: top;\n",
       "    }\n",
       "\n",
       "    .dataframe thead th {\n",
       "        text-align: right;\n",
       "    }\n",
       "</style>\n",
       "<table border=\"1\" class=\"dataframe\">\n",
       "  <thead>\n",
       "    <tr style=\"text-align: right;\">\n",
       "      <th></th>\n",
       "      <th>headline</th>\n",
       "      <th>text</th>\n",
       "      <th>summaryLen</th>\n",
       "      <th>textLen</th>\n",
       "    </tr>\n",
       "  </thead>\n",
       "  <tbody>\n",
       "    <tr>\n",
       "      <th>0</th>\n",
       "      <td>keep related supplies in the same area. make a...</td>\n",
       "      <td>if you 're a photographer keep all the necessa...</td>\n",
       "      <td>523</td>\n",
       "      <td>3363</td>\n",
       "    </tr>\n",
       "    <tr>\n",
       "      <th>1</th>\n",
       "      <td>create a sketch in the neopoprealist manner of...</td>\n",
       "      <td>see the image for how this drawing develops st...</td>\n",
       "      <td>757</td>\n",
       "      <td>3592</td>\n",
       "    </tr>\n",
       "    <tr>\n",
       "      <th>2</th>\n",
       "      <td>get a bachelor ’s degree. enroll in a studio b...</td>\n",
       "      <td>it is possible to become a vfx artist without ...</td>\n",
       "      <td>246</td>\n",
       "      <td>2715</td>\n",
       "    </tr>\n",
       "  </tbody>\n",
       "</table>\n",
       "</div>"
      ],
      "text/plain": [
       "                                            headline  \\\n",
       "0  keep related supplies in the same area. make a...   \n",
       "1  create a sketch in the neopoprealist manner of...   \n",
       "2  get a bachelor ’s degree. enroll in a studio b...   \n",
       "\n",
       "                                                text  summaryLen  textLen  \n",
       "0  if you 're a photographer keep all the necessa...         523     3363  \n",
       "1  see the image for how this drawing develops st...         757     3592  \n",
       "2  it is possible to become a vfx artist without ...         246     2715  "
      ]
     },
     "execution_count": 3,
     "metadata": {},
     "output_type": "execute_result"
    }
   ],
   "source": [
    "dat = pd.read_csv('2019_03_06_wikihow_preservingSentences_truncated.csv')\n",
    "dat.head(3)"
   ]
  },
  {
   "cell_type": "code",
   "execution_count": 10,
   "metadata": {},
   "outputs": [],
   "source": [
    "def uniqueWords(txt):\n",
    "    words = [token.lemma_ for token in nlp(txt) if not \n",
    "                 token.is_stop and not token.is_punct and len(token)>2]\n",
    "    words_unique = set(words)\n",
    "    return words_unique"
   ]
  },
  {
   "cell_type": "code",
   "execution_count": 16,
   "metadata": {},
   "outputs": [],
   "source": [
    "dat['uniqeToken_Summary'] = dat['headline'].apply(lambda x: uniqueWords(x))\n",
    "dat['uniqeToken_Article'] = dat['text'].apply(lambda x: uniqueWords(x))"
   ]
  },
  {
   "cell_type": "code",
   "execution_count": 26,
   "metadata": {},
   "outputs": [
    {
     "data": {
      "text/plain": [
       "{'area',\n",
       " 'chalkboard',\n",
       " 'clean',\n",
       " 'clearly',\n",
       " 'clip',\n",
       " 'clothesline',\n",
       " 'container',\n",
       " 'dedicated',\n",
       " 'draft',\n",
       " 'effort',\n",
       " 'especially',\n",
       " 'excess',\n",
       " 'habit',\n",
       " 'hang',\n",
       " 'idea',\n",
       " 'inch',\n",
       " 'label',\n",
       " 'large',\n",
       " 'loose',\n",
       " 'maker',\n",
       " 'material',\n",
       " 'month',\n",
       " 'old',\n",
       " 'organization',\n",
       " 'paint',\n",
       " 'permanent',\n",
       " 'photo',\n",
       " 'place',\n",
       " 'purchase',\n",
       " 'reference',\n",
       " 'related',\n",
       " 'right',\n",
       " 'room',\n",
       " 'semi',\n",
       " 'session',\n",
       " 'sketch',\n",
       " 'space',\n",
       " 'storage',\n",
       " 'strategy',\n",
       " 'stuff',\n",
       " 'supply',\n",
       " 'throw',\n",
       " 'use',\n",
       " 'useless',\n",
       " 'vertical',\n",
       " 'visible',\n",
       " 'wall',\n",
       " 'workspace'}"
      ]
     },
     "execution_count": 26,
     "metadata": {},
     "output_type": "execute_result"
    }
   ],
   "source": [
    "set()"
   ]
  },
  {
   "cell_type": "code",
   "execution_count": 25,
   "metadata": {},
   "outputs": [
    {
     "data": {
      "text/plain": [
       "{'clean', 'paint', 'sketch', 'wall'}"
      ]
     },
     "execution_count": 25,
     "metadata": {},
     "output_type": "execute_result"
    }
   ],
   "source": [
    "set(par[0]&par[1])"
   ]
  },
  {
   "cell_type": "code",
   "execution_count": 37,
   "metadata": {},
   "outputs": [],
   "source": [
    "dat['common_tokens'] = pd.Series(set(dat['uniqeToken_Summary'][i]&dat['uniqeToken_Article'][i]) \n",
    "           for i in range(len(dat)))"
   ]
  },
  {
   "cell_type": "code",
   "execution_count": 38,
   "metadata": {},
   "outputs": [],
   "source": [
    "#dat.to_csv('data.csv')"
   ]
  }
 ],
 "metadata": {
  "kernelspec": {
   "display_name": "Python 3",
   "language": "python",
   "name": "python3"
  },
  "language_info": {
   "codemirror_mode": {
    "name": "ipython",
    "version": 3
   },
   "file_extension": ".py",
   "mimetype": "text/x-python",
   "name": "python",
   "nbconvert_exporter": "python",
   "pygments_lexer": "ipython3",
   "version": "3.6.8"
  }
 },
 "nbformat": 4,
 "nbformat_minor": 2
}
